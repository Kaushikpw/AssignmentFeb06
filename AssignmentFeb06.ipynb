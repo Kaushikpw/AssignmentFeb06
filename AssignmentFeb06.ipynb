{
 "cells": [
  {
   "cell_type": "code",
   "execution_count": 1,
   "id": "58603c9c-f691-4e6f-991f-b836a0f57fb1",
   "metadata": {},
   "outputs": [
    {
     "name": "stdout",
     "output_type": "stream",
     "text": [
      "[('Virat Kohli', 24936), ('Jack Kallis', 25534), ('Ricky Ponting', 27483), ('Sachin Tendulkar', 34357)]\n"
     ]
    }
   ],
   "source": [
    "#Q1. Create a python program to sort the given list of tuples based on integer value using a lambda function.\n",
    "# [('Sachin Tendulkar', 34357), ('Ricky Ponting', 27483), ('Jack Kallis', 25534), ('Virat Kohli', 24936)]\n",
    "#Ans.:  \n",
    "from functools import reduce\n",
    "\n",
    "Innings = [('Sachin Tendulkar', 34357), ('Ricky Ponting', 27483), ('Jack Kallis', 25534), ('Virat Kohli', 24936)]\n",
    "Innings.sort(key=lambda x: x[1])\n",
    "print(Innings)"
   ]
  },
  {
   "cell_type": "code",
   "execution_count": 2,
   "id": "7bc3587b-6a0b-4421-8e46-c764397f87bb",
   "metadata": {},
   "outputs": [
    {
     "name": "stdout",
     "output_type": "stream",
     "text": [
      "[1, 4, 9, 16, 25, 36, 49, 64, 81, 100]\n"
     ]
    }
   ],
   "source": [
    "#Q2. Write a Python Program to find the squares of all the numbers in the given list of integers using\n",
    "#lambda and map functions.\n",
    "#[1, 2, 3, 4, 5, 6, 7, 8, 9, 10]\n",
    "#Ans.:\n",
    "List1 = [1, 2, 3, 4, 5, 6, 7, 8, 9, 10]\n",
    "print(list(map(lambda x : x * x, List1)))"
   ]
  },
  {
   "cell_type": "code",
   "execution_count": 3,
   "id": "71af3230-e104-48e5-b3b6-02575bf03bf5",
   "metadata": {},
   "outputs": [
    {
     "name": "stdout",
     "output_type": "stream",
     "text": [
      "('1', '2', '3', '4', '5', '6', '7', '8', '9', '10')\n"
     ]
    }
   ],
   "source": [
    "# Q3. Write a python program to convert the given list of integers into a tuple of strings. Use map and\n",
    "#lambda functions\n",
    "#Given String: [1, 2, 3, 4, 5, 6, 7, 8, 9, 10]\n",
    "#Expected output: ('1', '2', '3', '4', '5', '6', '7', '8', '9', '10')\n",
    "\n",
    "#Ans.:\n",
    "Number = [1, 2, 3, 4, 5, 6, 7, 8, 9, 10]\n",
    "print(tuple(map(lambda x: str(x), Number)))"
   ]
  },
  {
   "cell_type": "code",
   "execution_count": 5,
   "id": "e12471de-6b95-4444-aeaa-c835e7b92406",
   "metadata": {},
   "outputs": [
    {
     "name": "stdout",
     "output_type": "stream",
     "text": [
      "[1, 2, 3, 4, 5, 6, 7, 8, 9, 10, 11, 12, 13, 14, 15, 16, 17, 18, 19, 20, 21, 22, 23, 24, 25]\n"
     ]
    }
   ],
   "source": [
    "#Q4. Write a python program using reduce function to compute the product of a list containing numbers\n",
    "#from 1 to 25.\n",
    "\n",
    "#Ans.:\n",
    "Numericals = list(range(1, 26))\n",
    "print(Numericals)\n",
    "\n",
    "sum = reduce(lambda a, b : a+b, Numericals)"
   ]
  },
  {
   "cell_type": "code",
   "execution_count": 8,
   "id": "a650102d-fc0e-44fa-804e-924c684ea09f",
   "metadata": {},
   "outputs": [
    {
     "name": "stdout",
     "output_type": "stream",
     "text": [
      "[2, 3, 6, 9, 27, 60, 90, 120, 55, 46]\n"
     ]
    }
   ],
   "source": [
    "#Q5. Write a python program to filter the numbers in a given list that are divisible by 2 and 3 using the\n",
    "#filter function.\n",
    "#[2, 3, 6, 9, 27, 60, 90, 120, 55, 46]\n",
    "\n",
    "#Ans.:\n",
    "x = [2, 3, 6, 9, 27, 60, 90, 120, 55, 46]\n",
    "def compare(x):\n",
    "    if x % 2 == 0:\n",
    "        print(\"divisible by 2\")\n",
    "        \n",
    "    elif x %3 == 0:\n",
    "        print(\"divisible by 3\")\n",
    "filter(compare, list1)\n",
    "print(list1)"
   ]
  },
  {
   "cell_type": "code",
   "execution_count": 9,
   "id": "7bdd094b-07ba-4d70-aac1-72bf873b8a09",
   "metadata": {},
   "outputs": [
    {
     "name": "stdout",
     "output_type": "stream",
     "text": [
      "[6, 60, 90, 120]\n"
     ]
    }
   ],
   "source": [
    "Numbers = [2, 3, 6, 9, 27, 60, 90, 120, 55, 46]\n",
    "print(list(filter(lambda x: x % 2 == 0 and x % 3 == 0, Numbers)))"
   ]
  },
  {
   "cell_type": "code",
   "execution_count": 1,
   "id": "c9e561af-b074-46f4-8690-b3c657cefe65",
   "metadata": {},
   "outputs": [
    {
     "name": "stdout",
     "output_type": "stream",
     "text": [
      "['php', 'aba', 'radar', 'level']\n"
     ]
    }
   ],
   "source": [
    "#Q6. Write a python program to find palindromes in the given list of strings using lambda and filter\n",
    "#function.\n",
    "\n",
    "#Ans.:\n",
    "Variable = ['python', 'php', 'aba', 'radar', 'level']\n",
    "print(list(filter(lambda x: x == x[::-1] , Variable)))"
   ]
  },
  {
   "cell_type": "code",
   "execution_count": null,
   "id": "97a96e66-f768-4f92-b7d1-d923d8d049a1",
   "metadata": {},
   "outputs": [],
   "source": []
  }
 ],
 "metadata": {
  "kernelspec": {
   "display_name": "Python 3 (ipykernel)",
   "language": "python",
   "name": "python3"
  },
  "language_info": {
   "codemirror_mode": {
    "name": "ipython",
    "version": 3
   },
   "file_extension": ".py",
   "mimetype": "text/x-python",
   "name": "python",
   "nbconvert_exporter": "python",
   "pygments_lexer": "ipython3",
   "version": "3.10.8"
  }
 },
 "nbformat": 4,
 "nbformat_minor": 5
}
